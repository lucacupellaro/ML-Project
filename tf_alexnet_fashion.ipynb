{
 "cells": [
  {
   "cell_type": "code",
   "execution_count": 9,
   "metadata": {
    "executionInfo": {
     "elapsed": 7229,
     "status": "ok",
     "timestamp": 1731054692668,
     "user": {
      "displayName": "Gabriele Russo Russo",
      "userId": "07962968252190416546"
     },
     "user_tz": -60
    },
    "id": "cVxGSwu0-2b0"
   },
   "outputs": [],
   "source": [
    "import tensorflow as tf\n",
    "from tensorflow import keras\n",
    "import numpy as np\n",
    "import os\n",
    "\n",
    "# to make this notebook's output stable across runs\n",
    "np.random.seed(42)\n",
    "tf.random.set_seed(42)\n",
    "\n",
    "# To plot pretty figures\n",
    "%matplotlib inline\n",
    "import matplotlib as mpl\n",
    "import matplotlib.pyplot as plt\n",
    "mpl.rc('axes', labelsize=14)\n",
    "mpl.rc('xtick', labelsize=12)\n",
    "mpl.rc('ytick', labelsize=12)"
   ]
  },
  {
   "cell_type": "markdown",
   "metadata": {
    "id": "8evNMcPP-2b1"
   },
   "source": [
    "Let's start by loading the fashion MNIST dataset."
   ]
  },
  {
   "cell_type": "code",
   "execution_count": 10,
   "metadata": {
    "colab": {
     "base_uri": "https://localhost:8080/"
    },
    "executionInfo": {
     "elapsed": 1817,
     "status": "ok",
     "timestamp": 1731054694482,
     "user": {
      "displayName": "Gabriele Russo Russo",
      "userId": "07962968252190416546"
     },
     "user_tz": -60
    },
    "id": "fwQpYT77-2b2",
    "outputId": "3e85ced4-50fc-4c5e-dfa4-33a15d6d406e"
   },
   "outputs": [],
   "source": [
    "fashion_mnist = keras.datasets.fashion_mnist\n",
    "(X_train_full, y_train_full), (X_test, y_test) = fashion_mnist.load_data()\n",
    "X_train_full = X_train_full.reshape(-1,28,28,1)"
   ]
  },
  {
   "cell_type": "markdown",
   "metadata": {
    "id": "X6FEZSvk-2b2"
   },
   "source": [
    "The training set contains 60,000 grayscale images, each 28x28 pixels:"
   ]
  },
  {
   "cell_type": "code",
   "execution_count": 11,
   "metadata": {
    "colab": {
     "base_uri": "https://localhost:8080/"
    },
    "executionInfo": {
     "elapsed": 7,
     "status": "ok",
     "timestamp": 1731054694483,
     "user": {
      "displayName": "Gabriele Russo Russo",
      "userId": "07962968252190416546"
     },
     "user_tz": -60
    },
    "id": "VZvONLbr-2b2",
    "outputId": "b66fe81f-d618-4fa2-bb6e-e02200ade04d"
   },
   "outputs": [
    {
     "data": {
      "text/plain": [
       "(60000, 28, 28, 1)"
      ]
     },
     "execution_count": 11,
     "metadata": {},
     "output_type": "execute_result"
    }
   ],
   "source": [
    "X_train_full.shape"
   ]
  },
  {
   "cell_type": "markdown",
   "metadata": {
    "id": "o1HqSXXP-2b3"
   },
   "source": [
    "Let's split the full training set into a validation set and a (smaller) training set. We also scale the pixel intensities down to the 0-1 range and convert them to floats, by dividing by 255."
   ]
  },
  {
   "cell_type": "code",
   "execution_count": 12,
   "metadata": {
    "executionInfo": {
     "elapsed": 5,
     "status": "ok",
     "timestamp": 1731054694483,
     "user": {
      "displayName": "Gabriele Russo Russo",
      "userId": "07962968252190416546"
     },
     "user_tz": -60
    },
    "id": "9JD7ubMu-2b3"
   },
   "outputs": [],
   "source": [
    "X_valid, X_train = X_train_full[:5000] / 255., X_train_full[5000:] / 255.\n",
    "y_valid, y_train = y_train_full[:5000], y_train_full[5000:]"
   ]
  },
  {
   "cell_type": "markdown",
   "metadata": {
    "id": "eQEWHBa9-2b3"
   },
   "source": [
    "The labels are the class IDs (represented as uint8), from 0 to 9:"
   ]
  },
  {
   "cell_type": "code",
   "execution_count": 13,
   "metadata": {
    "colab": {
     "base_uri": "https://localhost:8080/"
    },
    "executionInfo": {
     "elapsed": 5,
     "status": "ok",
     "timestamp": 1731054694483,
     "user": {
      "displayName": "Gabriele Russo Russo",
      "userId": "07962968252190416546"
     },
     "user_tz": -60
    },
    "id": "UuKRWn-b-2b5",
    "outputId": "3cd2d6c0-ff80-4185-eaaf-145ddbb11597"
   },
   "outputs": [
    {
     "data": {
      "text/plain": [
       "array([4, 0, 7, ..., 3, 0, 5], dtype=uint8)"
      ]
     },
     "execution_count": 13,
     "metadata": {},
     "output_type": "execute_result"
    }
   ],
   "source": [
    "y_train"
   ]
  },
  {
   "cell_type": "markdown",
   "metadata": {
    "id": "v1y7p7an-2b5"
   },
   "source": [
    "Here are the corresponding class names:"
   ]
  },
  {
   "cell_type": "code",
   "execution_count": 14,
   "metadata": {
    "executionInfo": {
     "elapsed": 267,
     "status": "ok",
     "timestamp": 1731054694747,
     "user": {
      "displayName": "Gabriele Russo Russo",
      "userId": "07962968252190416546"
     },
     "user_tz": -60
    },
    "id": "a5bkdKIT-2b6"
   },
   "outputs": [],
   "source": [
    "class_names = [\"T-shirt/top\", \"Trouser\", \"Pullover\", \"Dress\", \"Coat\",\n",
    "               \"Sandal\", \"Shirt\", \"Sneaker\", \"Bag\", \"Ankle boot\"]"
   ]
  },
  {
   "cell_type": "markdown",
   "metadata": {
    "id": "ZnxKYHQV-2b6"
   },
   "source": [
    "## AlexNet"
   ]
  },
  {
   "cell_type": "code",
   "execution_count": 15,
   "metadata": {
    "executionInfo": {
     "elapsed": 1857,
     "status": "ok",
     "timestamp": 1731054696602,
     "user": {
      "displayName": "Gabriele Russo Russo",
      "userId": "07962968252190416546"
     },
     "user_tz": -60
    },
    "id": "KQOY1_I5-2b6"
   },
   "outputs": [],
   "source": [
    "alex = tf.keras.models.Sequential([\n",
    "            tf.keras.layers.Resizing(227,227), # just an example, do not upscale input in practice!\n",
    "            tf.keras.layers.Conv2D(filters=96, kernel_size=11, strides=4,\n",
    "                                   activation='relu'),\n",
    "            keras.layers.BatchNormalization(),\n",
    "            tf.keras.layers.MaxPool2D(pool_size=3, strides=2),\n",
    "            tf.keras.layers.Conv2D(filters=256, kernel_size=5, padding='same',\n",
    "                                   activation='relu'),\n",
    "            keras.layers.BatchNormalization(),\n",
    "            tf.keras.layers.MaxPool2D(pool_size=3, strides=2),\n",
    "            tf.keras.layers.Conv2D(filters=384, kernel_size=3, padding='same',\n",
    "                                   activation='relu'),\n",
    "            keras.layers.BatchNormalization(),\n",
    "            tf.keras.layers.Conv2D(filters=384, kernel_size=3, padding='same',\n",
    "                                   activation='relu'),\n",
    "            keras.layers.BatchNormalization(),\n",
    "            tf.keras.layers.Conv2D(filters=256, kernel_size=3, padding='same',\n",
    "                                   activation='relu'),\n",
    "            keras.layers.BatchNormalization(),\n",
    "            tf.keras.layers.MaxPool2D(pool_size=3, strides=2),\n",
    "            tf.keras.layers.Flatten(),\n",
    "            tf.keras.layers.Dense(4096, activation='relu'),\n",
    "            tf.keras.layers.Dropout(0.5),\n",
    "            tf.keras.layers.Dense(4096, activation='relu'),\n",
    "            tf.keras.layers.Dropout(0.5),\n",
    "            tf.keras.layers.Dense(10, activation=\"softmax\")])\n",
    "\n",
    "\n",
    "alex.compile(loss=\"sparse_categorical_crossentropy\",\n",
    "              optimizer=\"adam\",\n",
    "              metrics=[\"accuracy\"])"
   ]
  },
  {
   "cell_type": "code",
   "execution_count": null,
   "metadata": {
    "colab": {
     "base_uri": "https://localhost:8080/"
    },
    "executionInfo": {
     "elapsed": 2603182,
     "status": "ok",
     "timestamp": 1731057299778,
     "user": {
      "displayName": "Gabriele Russo Russo",
      "userId": "07962968252190416546"
     },
     "user_tz": -60
    },
    "id": "PnfNynpC-2b6",
    "outputId": "5944b5a8-1e20-4d0e-b480-e21db02b7c54"
   },
   "outputs": [
    {
     "name": "stdout",
     "output_type": "stream",
     "text": [
      "Epoch 1/20\n",
      "1719/1719 [==============================] - 1170s 680ms/step - loss: 1.5165 - accuracy: 0.6134 - val_loss: 0.7649 - val_accuracy: 0.7248\n",
      "Epoch 2/20\n",
      "1127/1719 [==================>...........] - ETA: 6:25 - loss: 0.9306 - accuracy: 0.6564"
     ]
    }
   ],
   "source": [
    "historyA = alex.fit(X_train, y_train, epochs=20, validation_data=(X_valid, y_valid))"
   ]
  },
  {
   "cell_type": "code",
   "execution_count": null,
   "metadata": {
    "colab": {
     "base_uri": "https://localhost:8080/",
     "height": 476
    },
    "executionInfo": {
     "elapsed": 421,
     "status": "ok",
     "timestamp": 1731057300190,
     "user": {
      "displayName": "Gabriele Russo Russo",
      "userId": "07962968252190416546"
     },
     "user_tz": -60
    },
    "id": "Kn5YQoCC5dxG",
    "outputId": "23e84261-86cc-44fc-b34f-fe64be7e81dc"
   },
   "outputs": [],
   "source": [
    "import pandas as pd\n",
    "\n",
    "pd.DataFrame(historyA.history).plot(figsize=(8, 5))\n",
    "plt.grid(True)\n",
    "plt.gca().set_ylim(0, 1)\n",
    "plt.show()"
   ]
  },
  {
   "cell_type": "code",
   "execution_count": null,
   "metadata": {},
   "outputs": [],
   "source": []
  },
  {
   "cell_type": "code",
   "execution_count": null,
   "metadata": {},
   "outputs": [],
   "source": []
  }
 ],
 "metadata": {
  "accelerator": "GPU",
  "colab": {
   "gpuType": "T4",
   "provenance": []
  },
  "kernelspec": {
   "display_name": "Python 3 (ipykernel)",
   "language": "python",
   "name": "python3"
  },
  "language_info": {
   "codemirror_mode": {
    "name": "ipython",
    "version": 3
   },
   "file_extension": ".py",
   "mimetype": "text/x-python",
   "name": "python",
   "nbconvert_exporter": "python",
   "pygments_lexer": "ipython3",
   "version": "3.9.18"
  },
  "nav_menu": {
   "height": "264px",
   "width": "369px"
  },
  "toc": {
   "navigate_menu": true,
   "number_sections": false,
   "sideBar": true,
   "threshold": 6,
   "toc_cell": false,
   "toc_section_display": "block",
   "toc_window_display": false
  }
 },
 "nbformat": 4,
 "nbformat_minor": 4
}

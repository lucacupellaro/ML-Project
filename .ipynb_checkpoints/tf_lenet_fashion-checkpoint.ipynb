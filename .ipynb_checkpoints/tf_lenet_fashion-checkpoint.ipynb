{
 "cells": [
  {
   "cell_type": "code",
   "execution_count": 3,
   "metadata": {},
   "outputs": [],
   "source": [
    "import tensorflow as tf\n",
    "from tensorflow import keras\n",
    "import numpy as np\n",
    "import os\n",
    "\n",
    "# to make this notebook's output stable across runs\n",
    "np.random.seed(42)\n",
    "tf.random.set_seed(42)\n",
    "\n",
    "# To plot pretty figures\n",
    "%matplotlib inline\n",
    "import matplotlib as mpl\n",
    "import matplotlib.pyplot as plt\n",
    "mpl.rc('axes', labelsize=14)\n",
    "mpl.rc('xtick', labelsize=12)\n",
    "mpl.rc('ytick', labelsize=12)"
   ]
  },
  {
   "cell_type": "markdown",
   "metadata": {},
   "source": [
    "Let's start by loading the fashion MNIST dataset. Keras has a number of functions to load popular datasets in `keras.datasets`. The dataset is already split for you between a training set and a test set, but it can be useful to split the training set further to have a validation set:"
   ]
  },
  {
   "cell_type": "code",
   "execution_count": 4,
   "metadata": {},
   "outputs": [],
   "source": [
    "fashion_mnist = keras.datasets.fashion_mnist\n",
    "(X_train_full, y_train_full), (X_test, y_test) = fashion_mnist.load_data()"
   ]
  },
  {
   "cell_type": "markdown",
   "metadata": {},
   "source": [
    "The training set contains 60,000 grayscale images, each 28x28 pixels:"
   ]
  },
  {
   "cell_type": "code",
   "execution_count": 5,
   "metadata": {},
   "outputs": [
    {
     "data": {
      "text/plain": [
       "(60000, 28, 28)"
      ]
     },
     "execution_count": 5,
     "metadata": {},
     "output_type": "execute_result"
    }
   ],
   "source": [
    "X_train_full.shape"
   ]
  },
  {
   "cell_type": "markdown",
   "metadata": {},
   "source": [
    "Let's split the full training set into a validation set and a (smaller) training set. We also scale the pixel intensities down to the 0-1 range and convert them to floats, by dividing by 255."
   ]
  },
  {
   "cell_type": "code",
   "execution_count": 6,
   "metadata": {},
   "outputs": [],
   "source": [
    "X_valid, X_train = X_train_full[:5000] / 255., X_train_full[5000:] / 255.\n",
    "y_valid, y_train = y_train_full[:5000], y_train_full[5000:]\n",
    "X_test = X_test / 255."
   ]
  },
  {
   "cell_type": "markdown",
   "metadata": {},
   "source": [
    "You can plot an image using Matplotlib's `imshow()` function, with a `'binary'`\n",
    " color map:"
   ]
  },
  {
   "cell_type": "code",
   "execution_count": 7,
   "metadata": {},
   "outputs": [
    {
     "data": {
      "image/png": "[encoded data removed]",
      "text/plain": [
       "<Figure size 640x480 with 1 Axes>"
      ]
     },
     "metadata": {},
     "output_type": "display_data"
    }
   ],
   "source": [
    "plt.imshow(X_train[0], cmap=\"binary\")\n",
    "plt.axis('off')\n",
    "plt.show()"
   ]
  },
  {
   "cell_type": "markdown",
   "metadata": {},
   "source": [
    "The labels are the class IDs (represented as uint8), from 0 to 9:"
   ]
  },
  {
   "cell_type": "code",
   "execution_count": null,
   "metadata": {},
   "outputs": [],
   "source": [
    "y_train"
   ]
  },
  {
   "cell_type": "markdown",
   "metadata": {},
   "source": [
    "Here are the corresponding class names:"
   ]
  },
  {
   "cell_type": "code",
   "execution_count": 8,
   "metadata": {},
   "outputs": [],
   "source": [
    "class_names = [\"T-shirt/top\", \"Trouser\", \"Pullover\", \"Dress\", \"Coat\",\n",
    "               \"Sandal\", \"Shirt\", \"Sneaker\", \"Bag\", \"Ankle boot\"]"
   ]
  },
  {
   "cell_type": "markdown",
   "metadata": {},
   "source": [
    "## Baseline MLP"
   ]
  },
  {
   "cell_type": "code",
   "execution_count": 9,
   "metadata": {},
   "outputs": [
    {
     "name": "stderr",
     "output_type": "stream",
     "text": [
      "2023-11-21 11:40:46.228784: I tensorflow/core/platform/cpu_feature_guard.cc:193] This TensorFlow binary is optimized with oneAPI Deep Neural Network Library (oneDNN) to use the following CPU instructions in performance-critical operations:  SSE4.1 SSE4.2 AVX AVX2 AVX512F AVX512_VNNI FMA\n",
      "To enable them in other operations, rebuild TensorFlow with the appropriate compiler flags.\n"
     ]
    }
   ],
   "source": [
    "mlp_model = keras.models.Sequential()\n",
    "mlp_model.add(keras.layers.Flatten(input_shape=[28, 28]))\n",
    "mlp_model.add(keras.layers.Dense(300, activation=\"relu\"))\n",
    "mlp_model.add(keras.layers.Dense(100, activation=\"relu\"))\n",
    "mlp_model.add(keras.layers.Dense(10, activation=\"softmax\"))"
   ]
  },
  {
   "cell_type": "code",
   "execution_count": 10,
   "metadata": {},
   "outputs": [
    {
     "name": "stdout",
     "output_type": "stream",
     "text": [
      "Model: \"sequential\"\n",
      "_________________________________________________________________\n",
      " Layer (type)                Output Shape              Param #   \n",
      "=================================================================\n",
      " flatten (Flatten)           (None, 784)               0         \n",
      "                                                                 \n",
      " dense (Dense)               (None, 300)               235500    \n",
      "                                                                 \n",
      " dense_1 (Dense)             (None, 100)               30100     \n",
      "                                                                 \n",
      " dense_2 (Dense)             (None, 10)                1010      \n",
      "                                                                 \n",
      "=================================================================\n",
      "Total params: 266,610\n",
      "Trainable params: 266,610\n",
      "Non-trainable params: 0\n",
      "_________________________________________________________________\n"
     ]
    }
   ],
   "source": [
    "mlp_model.summary()"
   ]
  },
  {
   "cell_type": "code",
   "execution_count": 11,
   "metadata": {},
   "outputs": [],
   "source": [
    "mlp_model.compile(loss=\"sparse_categorical_crossentropy\",\n",
    "              optimizer=\"adam\",\n",
    "              metrics=[\"accuracy\"])"
   ]
  },
  {
   "cell_type": "code",
   "execution_count": 12,
   "metadata": {},
   "outputs": [
    {
     "name": "stdout",
     "output_type": "stream",
     "text": [
      "Epoch 1/30\n",
      "1719/1719 [==============================] - 3s 1ms/step - loss: 0.4837 - accuracy: 0.8249 - val_loss: 0.3581 - val_accuracy: 0.8686\n",
      "Epoch 2/30\n",
      "1719/1719 [==============================] - 2s 1ms/step - loss: 0.3626 - accuracy: 0.8679 - val_loss: 0.3948 - val_accuracy: 0.8568\n",
      "Epoch 3/30\n",
      "1719/1719 [==============================] - 2s 1ms/step - loss: 0.3295 - accuracy: 0.8782 - val_loss: 0.3215 - val_accuracy: 0.8814\n",
      "Epoch 4/30\n",
      "1719/1719 [==============================] - 2s 1ms/step - loss: 0.3044 - accuracy: 0.8870 - val_loss: 0.3136 - val_accuracy: 0.8860\n",
      "Epoch 5/30\n",
      "1719/1719 [==============================] - 2s 1ms/step - loss: 0.2865 - accuracy: 0.8922 - val_loss: 0.2994 - val_accuracy: 0.8918\n",
      "Epoch 6/30\n",
      "1719/1719 [==============================] - 2s 1ms/step - loss: 0.2722 - accuracy: 0.8993 - val_loss: 0.3287 - val_accuracy: 0.8846\n",
      "Epoch 7/30\n",
      "1719/1719 [==============================] - 2s 1ms/step - loss: 0.2612 - accuracy: 0.9029 - val_loss: 0.3055 - val_accuracy: 0.8916\n",
      "Epoch 8/30\n",
      "1719/1719 [==============================] - 2s 1ms/step - loss: 0.2477 - accuracy: 0.9061 - val_loss: 0.2946 - val_accuracy: 0.8916\n",
      "Epoch 9/30\n",
      "1719/1719 [==============================] - 3s 1ms/step - loss: 0.2365 - accuracy: 0.9105 - val_loss: 0.3116 - val_accuracy: 0.8954\n",
      "Epoch 10/30\n",
      "1719/1719 [==============================] - 2s 1ms/step - loss: 0.2267 - accuracy: 0.9135 - val_loss: 0.2994 - val_accuracy: 0.8964\n",
      "Epoch 11/30\n",
      "1719/1719 [==============================] - 2s 1ms/step - loss: 0.2171 - accuracy: 0.9172 - val_loss: 0.3026 - val_accuracy: 0.8938\n",
      "Epoch 12/30\n",
      "1719/1719 [==============================] - 2s 1ms/step - loss: 0.2093 - accuracy: 0.9199 - val_loss: 0.3220 - val_accuracy: 0.8894\n",
      "Epoch 13/30\n",
      "1719/1719 [==============================] - 2s 1ms/step - loss: 0.2021 - accuracy: 0.9234 - val_loss: 0.3053 - val_accuracy: 0.8974\n",
      "Epoch 14/30\n",
      "1719/1719 [==============================] - 2s 1ms/step - loss: 0.1940 - accuracy: 0.9263 - val_loss: 0.3374 - val_accuracy: 0.8960\n",
      "Epoch 15/30\n",
      "1719/1719 [==============================] - 2s 1ms/step - loss: 0.1909 - accuracy: 0.9274 - val_loss: 0.3303 - val_accuracy: 0.8966\n",
      "Epoch 16/30\n",
      "1719/1719 [==============================] - 3s 2ms/step - loss: 0.1827 - accuracy: 0.9309 - val_loss: 0.3350 - val_accuracy: 0.8964\n",
      "Epoch 17/30\n",
      "1719/1719 [==============================] - 2s 1ms/step - loss: 0.1792 - accuracy: 0.9318 - val_loss: 0.3570 - val_accuracy: 0.8928\n",
      "Epoch 18/30\n",
      "1719/1719 [==============================] - 2s 1ms/step - loss: 0.1708 - accuracy: 0.9347 - val_loss: 0.3567 - val_accuracy: 0.8984\n"
     ]
    }
   ],
   "source": [
    "history = mlp_model.fit(X_train, y_train, epochs=30,\n",
    "                    validation_data=(X_valid, y_valid),\n",
    "                   callbacks=[keras.callbacks.EarlyStopping(patience=10)])"
   ]
  },
  {
   "cell_type": "code",
   "execution_count": 13,
   "metadata": {},
   "outputs": [
    {
     "data": {
      "image/png": "[encoded data removed]",
      "text/plain": [
       "<Figure size 800x500 with 1 Axes>"
      ]
     },
     "metadata": {},
     "output_type": "display_data"
    }
   ],
   "source": [
    "import pandas as pd\n",
    "\n",
    "pd.DataFrame(history.history).plot(figsize=(8, 5))\n",
    "plt.grid(True)\n",
    "plt.gca().set_ylim(0, 1)\n",
    "plt.show()"
   ]
  },
  {
   "cell_type": "markdown",
   "metadata": {},
   "source": [
    "## LeNet-5"
   ]
  },
  {
   "cell_type": "code",
   "execution_count": 16,
   "metadata": {},
   "outputs": [],
   "source": [
    "X_train2 = X_train.reshape(-1, 28, 28, 1) # single channel\n",
    "X_valid2 = X_valid.reshape(-1, 28, 28, 1)"
   ]
  },
  {
   "cell_type": "code",
   "execution_count": 17,
   "metadata": {},
   "outputs": [
    {
     "name": "stdout",
     "output_type": "stream",
     "text": [
      "Model: \"sequential_2\"\n",
      "_________________________________________________________________\n",
      " Layer (type)                Output Shape              Param #   \n",
      "=================================================================\n",
      " conv2d_2 (Conv2D)           (None, 28, 28, 6)         156       \n",
      "                                                                 \n",
      " average_pooling2d_2 (Averag  (None, 14, 14, 6)        0         \n",
      " ePooling2D)                                                     \n",
      "                                                                 \n",
      " conv2d_3 (Conv2D)           (None, 10, 10, 16)        2416      \n",
      "                                                                 \n",
      " average_pooling2d_3 (Averag  (None, 5, 5, 16)         0         \n",
      " ePooling2D)                                                     \n",
      "                                                                 \n",
      " flatten_2 (Flatten)         (None, 400)               0         \n",
      "                                                                 \n",
      " dense_6 (Dense)             (None, 120)               48120     \n",
      "                                                                 \n",
      " dense_7 (Dense)             (None, 84)                10164     \n",
      "                                                                 \n",
      " dense_8 (Dense)             (None, 10)                850       \n",
      "                                                                 \n",
      "=================================================================\n",
      "Total params: 61,706\n",
      "Trainable params: 61,706\n",
      "Non-trainable params: 0\n",
      "_________________________________________________________________\n"
     ]
    }
   ],
   "source": [
    "lenet = tf.keras.models.Sequential([\n",
    "            tf.keras.layers.Conv2D(filters=6, kernel_size=5, activation='sigmoid', padding='same', input_shape=(28, 28, 1)),\n",
    "            tf.keras.layers.AvgPool2D(pool_size=2, strides=2),\n",
    "            tf.keras.layers.Conv2D(filters=16, kernel_size=5,activation='sigmoid'),\n",
    "            tf.keras.layers.AvgPool2D(pool_size=2, strides=2),\n",
    "            tf.keras.layers.Flatten(),\n",
    "            tf.keras.layers.Dense(120, activation='sigmoid'),\n",
    "            tf.keras.layers.Dense(84, activation='sigmoid'),\n",
    "            tf.keras.layers.Dense(10, activation=\"softmax\")])\n",
    "\n",
    "\n",
    "lenet.compile(loss=\"sparse_categorical_crossentropy\",\n",
    "              optimizer=\"adam\",\n",
    "              metrics=[\"accuracy\"])\n",
    "\n",
    "lenet.summary()"
   ]
  },
  {
   "cell_type": "code",
   "execution_count": 18,
   "metadata": {},
   "outputs": [
    {
     "name": "stdout",
     "output_type": "stream",
     "text": [
      "Epoch 1/30\n",
      "1719/1719 [==============================] - 4s 2ms/step - loss: 1.0542 - accuracy: 0.6044 - val_loss: 0.6465 - val_accuracy: 0.7492\n",
      "Epoch 2/30\n",
      "1719/1719 [==============================] - 3s 2ms/step - loss: 0.6104 - accuracy: 0.7634 - val_loss: 0.5446 - val_accuracy: 0.7928\n",
      "Epoch 3/30\n",
      "1719/1719 [==============================] - 3s 2ms/step - loss: 0.5181 - accuracy: 0.8050 - val_loss: 0.4688 - val_accuracy: 0.8250\n",
      "Epoch 4/30\n",
      "1719/1719 [==============================] - 3s 2ms/step - loss: 0.4619 - accuracy: 0.8277 - val_loss: 0.4122 - val_accuracy: 0.8524\n",
      "Epoch 5/30\n",
      "1719/1719 [==============================] - 3s 2ms/step - loss: 0.4264 - accuracy: 0.8431 - val_loss: 0.3868 - val_accuracy: 0.8560\n",
      "Epoch 6/30\n",
      "1719/1719 [==============================] - 3s 2ms/step - loss: 0.4009 - accuracy: 0.8517 - val_loss: 0.3769 - val_accuracy: 0.8610\n",
      "Epoch 7/30\n",
      "1719/1719 [==============================] - 3s 2ms/step - loss: 0.3814 - accuracy: 0.8587 - val_loss: 0.3677 - val_accuracy: 0.8642\n",
      "Epoch 8/30\n",
      "1719/1719 [==============================] - 3s 2ms/step - loss: 0.3630 - accuracy: 0.8656 - val_loss: 0.3362 - val_accuracy: 0.8780\n",
      "Epoch 9/30\n",
      "1719/1719 [==============================] - 4s 2ms/step - loss: 0.3481 - accuracy: 0.8702 - val_loss: 0.3345 - val_accuracy: 0.8736\n",
      "Epoch 10/30\n",
      "1719/1719 [==============================] - 3s 2ms/step - loss: 0.3359 - accuracy: 0.8744 - val_loss: 0.3237 - val_accuracy: 0.8804\n",
      "Epoch 11/30\n",
      "1719/1719 [==============================] - 3s 2ms/step - loss: 0.3261 - accuracy: 0.8786 - val_loss: 0.3316 - val_accuracy: 0.8730\n",
      "Epoch 12/30\n",
      "1719/1719 [==============================] - 3s 2ms/step - loss: 0.3158 - accuracy: 0.8819 - val_loss: 0.3192 - val_accuracy: 0.8810\n",
      "Epoch 13/30\n",
      "1719/1719 [==============================] - 3s 2ms/step - loss: 0.3083 - accuracy: 0.8841 - val_loss: 0.3135 - val_accuracy: 0.8822\n",
      "Epoch 14/30\n",
      "1719/1719 [==============================] - 3s 2ms/step - loss: 0.3011 - accuracy: 0.8872 - val_loss: 0.3178 - val_accuracy: 0.8800\n",
      "Epoch 15/30\n",
      "1719/1719 [==============================] - 3s 2ms/step - loss: 0.2935 - accuracy: 0.8891 - val_loss: 0.3052 - val_accuracy: 0.8832\n",
      "Epoch 16/30\n",
      "1719/1719 [==============================] - 3s 2ms/step - loss: 0.2875 - accuracy: 0.8918 - val_loss: 0.2980 - val_accuracy: 0.8876\n",
      "Epoch 17/30\n",
      "1719/1719 [==============================] - 3s 2ms/step - loss: 0.2803 - accuracy: 0.8949 - val_loss: 0.3063 - val_accuracy: 0.8860\n",
      "Epoch 18/30\n",
      "1719/1719 [==============================] - 3s 2ms/step - loss: 0.2755 - accuracy: 0.8959 - val_loss: 0.2963 - val_accuracy: 0.8890\n",
      "Epoch 19/30\n",
      "1719/1719 [==============================] - 3s 2ms/step - loss: 0.2699 - accuracy: 0.8997 - val_loss: 0.3080 - val_accuracy: 0.8858\n",
      "Epoch 20/30\n",
      "1719/1719 [==============================] - 4s 2ms/step - loss: 0.2638 - accuracy: 0.9016 - val_loss: 0.2902 - val_accuracy: 0.8886\n",
      "Epoch 21/30\n",
      "1719/1719 [==============================] - 4s 2ms/step - loss: 0.2575 - accuracy: 0.9023 - val_loss: 0.2916 - val_accuracy: 0.8908\n",
      "Epoch 22/30\n",
      "1719/1719 [==============================] - 4s 2ms/step - loss: 0.2528 - accuracy: 0.9051 - val_loss: 0.2847 - val_accuracy: 0.8892\n",
      "Epoch 23/30\n",
      "1719/1719 [==============================] - 4s 2ms/step - loss: 0.2495 - accuracy: 0.9056 - val_loss: 0.2899 - val_accuracy: 0.8872\n",
      "Epoch 24/30\n",
      "1719/1719 [==============================] - 3s 2ms/step - loss: 0.2433 - accuracy: 0.9089 - val_loss: 0.2760 - val_accuracy: 0.8950\n",
      "Epoch 25/30\n",
      "1719/1719 [==============================] - 4s 2ms/step - loss: 0.2393 - accuracy: 0.9088 - val_loss: 0.2926 - val_accuracy: 0.8914\n",
      "Epoch 26/30\n",
      "1719/1719 [==============================] - 3s 2ms/step - loss: 0.2360 - accuracy: 0.9103 - val_loss: 0.2724 - val_accuracy: 0.8962\n",
      "Epoch 27/30\n",
      "1719/1719 [==============================] - 3s 2ms/step - loss: 0.2313 - accuracy: 0.9125 - val_loss: 0.2800 - val_accuracy: 0.8972\n",
      "Epoch 28/30\n",
      "1719/1719 [==============================] - 4s 2ms/step - loss: 0.2272 - accuracy: 0.9143 - val_loss: 0.2849 - val_accuracy: 0.8934\n",
      "Epoch 29/30\n",
      "1719/1719 [==============================] - 3s 2ms/step - loss: 0.2239 - accuracy: 0.9149 - val_loss: 0.2788 - val_accuracy: 0.8940\n",
      "Epoch 30/30\n",
      "1719/1719 [==============================] - 4s 2ms/step - loss: 0.2187 - accuracy: 0.9176 - val_loss: 0.2708 - val_accuracy: 0.8962\n"
     ]
    }
   ],
   "source": [
    "history2 = lenet.fit(X_train2, y_train, epochs=30,\n",
    "                    validation_data=(X_valid, y_valid),\n",
    "                   callbacks=[keras.callbacks.EarlyStopping(patience=10)])"
   ]
  },
  {
   "cell_type": "markdown",
   "metadata": {},
   "source": [
    "### Replacing Sigmoid with ReLU"
   ]
  },
  {
   "cell_type": "code",
   "execution_count": 19,
   "metadata": {},
   "outputs": [
    {
     "name": "stdout",
     "output_type": "stream",
     "text": [
      "Epoch 1/30\n",
      "1719/1719 [==============================] - 4s 2ms/step - loss: 0.5769 - accuracy: 0.7865 - val_loss: 0.3958 - val_accuracy: 0.8564\n",
      "Epoch 2/30\n",
      "1719/1719 [==============================] - 3s 2ms/step - loss: 0.3765 - accuracy: 0.8626 - val_loss: 0.3446 - val_accuracy: 0.8736\n",
      "Epoch 3/30\n",
      "1719/1719 [==============================] - 3s 2ms/step - loss: 0.3191 - accuracy: 0.8817 - val_loss: 0.2967 - val_accuracy: 0.8948\n",
      "Epoch 4/30\n",
      "1719/1719 [==============================] - 3s 2ms/step - loss: 0.2852 - accuracy: 0.8949 - val_loss: 0.2725 - val_accuracy: 0.9022\n",
      "Epoch 5/30\n",
      "1719/1719 [==============================] - 3s 2ms/step - loss: 0.2645 - accuracy: 0.9016 - val_loss: 0.2585 - val_accuracy: 0.9038\n",
      "Epoch 6/30\n",
      "1719/1719 [==============================] - 3s 2ms/step - loss: 0.2483 - accuracy: 0.9077 - val_loss: 0.2738 - val_accuracy: 0.9008\n",
      "Epoch 7/30\n",
      "1719/1719 [==============================] - 3s 2ms/step - loss: 0.2328 - accuracy: 0.9133 - val_loss: 0.2460 - val_accuracy: 0.9082\n",
      "Epoch 8/30\n",
      "1719/1719 [==============================] - 3s 2ms/step - loss: 0.2186 - accuracy: 0.9185 - val_loss: 0.2478 - val_accuracy: 0.9050\n",
      "Epoch 9/30\n",
      "1719/1719 [==============================] - 3s 2ms/step - loss: 0.2078 - accuracy: 0.9216 - val_loss: 0.2346 - val_accuracy: 0.9148\n",
      "Epoch 10/30\n",
      "1719/1719 [==============================] - 3s 2ms/step - loss: 0.1968 - accuracy: 0.9261 - val_loss: 0.2322 - val_accuracy: 0.9156\n",
      "Epoch 11/30\n",
      "1719/1719 [==============================] - 3s 2ms/step - loss: 0.1878 - accuracy: 0.9289 - val_loss: 0.2259 - val_accuracy: 0.9156\n",
      "Epoch 12/30\n",
      "1719/1719 [==============================] - 3s 2ms/step - loss: 0.1776 - accuracy: 0.9322 - val_loss: 0.2374 - val_accuracy: 0.9166\n",
      "Epoch 13/30\n",
      "1719/1719 [==============================] - 3s 2ms/step - loss: 0.1686 - accuracy: 0.9373 - val_loss: 0.2417 - val_accuracy: 0.9186\n",
      "Epoch 14/30\n",
      "1719/1719 [==============================] - 3s 2ms/step - loss: 0.1593 - accuracy: 0.9397 - val_loss: 0.2541 - val_accuracy: 0.9120\n",
      "Epoch 15/30\n",
      "1719/1719 [==============================] - 3s 2ms/step - loss: 0.1532 - accuracy: 0.9421 - val_loss: 0.2528 - val_accuracy: 0.9174\n",
      "Epoch 16/30\n",
      "1719/1719 [==============================] - 3s 2ms/step - loss: 0.1446 - accuracy: 0.9459 - val_loss: 0.2599 - val_accuracy: 0.9192\n",
      "Epoch 17/30\n",
      "1719/1719 [==============================] - 3s 2ms/step - loss: 0.1382 - accuracy: 0.9473 - val_loss: 0.2556 - val_accuracy: 0.9174\n",
      "Epoch 18/30\n",
      "1719/1719 [==============================] - 3s 2ms/step - loss: 0.1298 - accuracy: 0.9502 - val_loss: 0.2498 - val_accuracy: 0.9234\n",
      "Epoch 19/30\n",
      "1719/1719 [==============================] - 3s 2ms/step - loss: 0.1252 - accuracy: 0.9530 - val_loss: 0.2576 - val_accuracy: 0.9192\n",
      "Epoch 20/30\n",
      "1719/1719 [==============================] - 3s 2ms/step - loss: 0.1175 - accuracy: 0.9556 - val_loss: 0.2768 - val_accuracy: 0.9178\n",
      "Epoch 21/30\n",
      "1719/1719 [==============================] - 3s 2ms/step - loss: 0.1124 - accuracy: 0.9567 - val_loss: 0.2855 - val_accuracy: 0.9198\n",
      "Epoch 22/30\n",
      "1719/1719 [==============================] - 3s 2ms/step - loss: 0.1081 - accuracy: 0.9594 - val_loss: 0.2800 - val_accuracy: 0.9188\n",
      "Epoch 23/30\n",
      "1719/1719 [==============================] - 3s 2ms/step - loss: 0.1003 - accuracy: 0.9618 - val_loss: 0.3005 - val_accuracy: 0.9160\n",
      "Epoch 24/30\n",
      "1719/1719 [==============================] - 3s 2ms/step - loss: 0.0968 - accuracy: 0.9632 - val_loss: 0.3040 - val_accuracy: 0.9156\n",
      "Epoch 25/30\n",
      "1719/1719 [==============================] - 3s 2ms/step - loss: 0.0934 - accuracy: 0.9645 - val_loss: 0.3216 - val_accuracy: 0.9188\n",
      "Epoch 26/30\n",
      "1719/1719 [==============================] - 3s 2ms/step - loss: 0.0902 - accuracy: 0.9655 - val_loss: 0.3322 - val_accuracy: 0.9192\n"
     ]
    }
   ],
   "source": [
    "lenet_alt = tf.keras.models.Sequential([\n",
    "            tf.keras.layers.Conv2D(filters=6, kernel_size=5, activation='relu', padding='same', input_shape=(28, 28, 1)),\n",
    "            tf.keras.layers.AvgPool2D(pool_size=2, strides=2),\n",
    "            tf.keras.layers.Conv2D(filters=16, kernel_size=5,activation='relu'),\n",
    "            tf.keras.layers.AvgPool2D(pool_size=2, strides=2),\n",
    "            tf.keras.layers.Flatten(),\n",
    "            tf.keras.layers.Dense(120, activation='relu'),\n",
    "            tf.keras.layers.Dense(84, activation='relu'),\n",
    "            tf.keras.layers.Dense(10, activation=\"softmax\")])\n",
    "\n",
    "\n",
    "lenet_alt.compile(loss=\"sparse_categorical_crossentropy\",\n",
    "              optimizer=\"adam\",\n",
    "              metrics=[\"accuracy\"])\n",
    "\n",
    "history3 = lenet_alt.fit(X_train2, y_train, epochs=30,\n",
    "                    validation_data=(X_valid, y_valid),\n",
    "                   callbacks=[keras.callbacks.EarlyStopping(patience=15)])"
   ]
  },
  {
   "cell_type": "markdown",
   "metadata": {},
   "source": [
    "# Exercises"
   ]
  },
  {
   "cell_type": "markdown",
   "metadata": {},
   "source": [
    "1. Try editing the CNN model above to improve accuracy.\n",
    "2. Compare SGD and Adam as optimizers from training."
   ]
  }
 ],
 "metadata": {
  "kernelspec": {
   "display_name": "Python 3 (ipykernel)",
   "language": "python",
   "name": "python3"
  },
  "language_info": {
   "codemirror_mode": {
    "name": "ipython",
    "version": 3
   },
   "file_extension": ".py",
   "mimetype": "text/x-python",
   "name": "python",
   "nbconvert_exporter": "python",
   "pygments_lexer": "ipython3",
   "version": "3.10.12"
  },
  "nav_menu": {
   "height": "264px",
   "width": "369px"
  },
  "toc": {
   "navigate_menu": true,
   "number_sections": false,
   "sideBar": true,
   "threshold": 6,
   "toc_cell": false,
   "toc_section_display": "block",
   "toc_window_display": false
  }
 },
 "nbformat": 4,
 "nbformat_minor": 4
}

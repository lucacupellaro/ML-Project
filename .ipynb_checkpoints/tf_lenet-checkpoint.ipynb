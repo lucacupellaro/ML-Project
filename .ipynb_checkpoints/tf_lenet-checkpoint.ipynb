{
 "cells": [
  {
   "cell_type": "code",
   "execution_count": 1,
   "metadata": {},
   "outputs": [
    {
     "name": "stderr",
     "output_type": "stream",
     "text": [
      "2023-11-17 12:50:29.915365: I tensorflow/core/platform/cpu_feature_guard.cc:193] This TensorFlow binary is optimized with oneAPI Deep Neural Network Library (oneDNN) to use the following CPU instructions in performance-critical operations:  SSE4.1 SSE4.2 AVX AVX2 AVX512F AVX512_VNNI FMA\n",
      "To enable them in other operations, rebuild TensorFlow with the appropriate compiler flags.\n",
      "2023-11-17 12:50:29.979329: I tensorflow/core/util/port.cc:104] oneDNN custom operations are on. You may see slightly different numerical results due to floating-point round-off errors from different computation orders. To turn them off, set the environment variable `TF_ENABLE_ONEDNN_OPTS=0`.\n"
     ]
    }
   ],
   "source": [
    "import tensorflow as tf\n",
    "from tensorflow import keras\n",
    "import numpy as np\n",
    "import os\n",
    "\n",
    "# to make this notebook's output stable across runs\n",
    "np.random.seed(42)\n",
    "tf.random.set_seed(42)\n",
    "\n",
    "# To plot pretty figures\n",
    "%matplotlib inline\n",
    "import matplotlib as mpl\n",
    "import matplotlib.pyplot as plt\n",
    "mpl.rc('axes', labelsize=14)\n",
    "mpl.rc('xtick', labelsize=12)\n",
    "mpl.rc('ytick', labelsize=12)"
   ]
  },
  {
   "cell_type": "markdown",
   "metadata": {},
   "source": [
    "Let's start by loading the MNIST dataset. Keras has a number of functions to load popular datasets in `keras.datasets`. The dataset is already split for you between a training set and a test set, but it can be useful to split the training set further to have a validation set:"
   ]
  },
  {
   "cell_type": "code",
   "execution_count": 2,
   "metadata": {},
   "outputs": [],
   "source": [
    "mnist = keras.datasets.mnist\n",
    "(X_train_full, y_train_full), (X_test, y_test) = mnist.load_data()"
   ]
  },
  {
   "cell_type": "markdown",
   "metadata": {},
   "source": [
    "The training set contains 60,000 grayscale images, each 28x28 pixels:"
   ]
  },
  {
   "cell_type": "code",
   "execution_count": 3,
   "metadata": {},
   "outputs": [
    {
     "data": {
      "text/plain": [
       "(60000, 28, 28)"
      ]
     },
     "execution_count": 3,
     "metadata": {},
     "output_type": "execute_result"
    }
   ],
   "source": [
    "X_train_full.shape"
   ]
  },
  {
   "cell_type": "code",
   "execution_count": 4,
   "metadata": {},
   "outputs": [
    {
     "data": {
      "text/plain": [
       "(60000, 28, 28, 1)"
      ]
     },
     "execution_count": 4,
     "metadata": {},
     "output_type": "execute_result"
    }
   ],
   "source": [
    "(60000, 28, 28, 1)"
   ]
  },
  {
   "cell_type": "markdown",
   "metadata": {},
   "source": [
    "Let's split the full training set into a validation set and a (smaller) training set. We also scale the pixel intensities down to the 0-1 range and convert them to floats, by dividing by 255."
   ]
  },
  {
   "cell_type": "code",
   "execution_count": 5,
   "metadata": {},
   "outputs": [],
   "source": [
    "X_valid, X_train = X_train_full[:5000] / 255., X_train_full[5000:] / 255.\n",
    "y_valid, y_train = y_train_full[:5000], y_train_full[5000:]\n",
    "X_test = X_test / 255."
   ]
  },
  {
   "cell_type": "markdown",
   "metadata": {},
   "source": [
    "You can plot an image using Matplotlib's `imshow()` function, with a `'binary'`\n",
    " color map:"
   ]
  },
  {
   "cell_type": "code",
   "execution_count": 6,
   "metadata": {},
   "outputs": [
    {
     "data": {
      "image/png": "[encoded data removed]",
      "text/plain": [
       "<Figure size 640x480 with 1 Axes>"
      ]
     },
     "metadata": {},
     "output_type": "display_data"
    }
   ],
   "source": [
    "plt.imshow(X_train[1], cmap=\"binary\")\n",
    "plt.axis('off')\n",
    "plt.show()"
   ]
  },
  {
   "cell_type": "code",
   "execution_count": 7,
   "metadata": {},
   "outputs": [
    {
     "data": {
      "text/plain": [
       "array([7, 3, 4, ..., 5, 6, 8], dtype=uint8)"
      ]
     },
     "execution_count": 7,
     "metadata": {},
     "output_type": "execute_result"
    }
   ],
   "source": [
    "y_train"
   ]
  },
  {
   "cell_type": "markdown",
   "metadata": {},
   "source": [
    "## LeNet-5"
   ]
  },
  {
   "cell_type": "code",
   "execution_count": 8,
   "metadata": {},
   "outputs": [
    {
     "data": {
      "text/plain": [
       "(55000, 28, 28, 1)"
      ]
     },
     "metadata": {},
     "output_type": "display_data"
    }
   ],
   "source": [
    "X_train2 = X_train.reshape(-1, 28, 28, 1) # single channel\n",
    "X_valid2 = X_valid.reshape(-1, 28, 28, 1)\n",
    "display(X_train2.shape)"
   ]
  },
  {
   "cell_type": "code",
   "execution_count": 9,
   "metadata": {},
   "outputs": [
    {
     "name": "stdout",
     "output_type": "stream",
     "text": [
      "Model: \"sequential\"\n",
      "_________________________________________________________________\n",
      " Layer (type)                Output Shape              Param #   \n",
      "=================================================================\n",
      " conv2d (Conv2D)             (None, 28, 28, 6)         156       \n",
      "                                                                 \n",
      " average_pooling2d (AverageP  (None, 14, 14, 6)        0         \n",
      " ooling2D)                                                       \n",
      "                                                                 \n",
      " conv2d_1 (Conv2D)           (None, 10, 10, 16)        2416      \n",
      "                                                                 \n",
      " average_pooling2d_1 (Averag  (None, 5, 5, 16)         0         \n",
      " ePooling2D)                                                     \n",
      "                                                                 \n",
      " flatten (Flatten)           (None, 400)               0         \n",
      "                                                                 \n",
      " dense (Dense)               (None, 120)               48120     \n",
      "                                                                 \n",
      " dense_1 (Dense)             (None, 84)                10164     \n",
      "                                                                 \n",
      " dense_2 (Dense)             (None, 10)                850       \n",
      "                                                                 \n",
      "=================================================================\n",
      "Total params: 61,706\n",
      "Trainable params: 61,706\n",
      "Non-trainable params: 0\n",
      "_________________________________________________________________\n"
     ]
    },
    {
     "name": "stderr",
     "output_type": "stream",
     "text": [
      "2023-11-17 12:50:31.684153: I tensorflow/core/platform/cpu_feature_guard.cc:193] This TensorFlow binary is optimized with oneAPI Deep Neural Network Library (oneDNN) to use the following CPU instructions in performance-critical operations:  SSE4.1 SSE4.2 AVX AVX2 AVX512F AVX512_VNNI FMA\n",
      "To enable them in other operations, rebuild TensorFlow with the appropriate compiler flags.\n"
     ]
    }
   ],
   "source": [
    "lenet = tf.keras.models.Sequential([\n",
    "            tf.keras.layers.Conv2D(filters=6, kernel_size=5, activation='sigmoid', padding='same', input_shape=(28, 28, 1)),\n",
    "            tf.keras.layers.AvgPool2D(pool_size=2, strides=2),\n",
    "            tf.keras.layers.Conv2D(filters=16, kernel_size=5,activation='sigmoid'),\n",
    "            tf.keras.layers.AvgPool2D(pool_size=2, strides=2),\n",
    "            tf.keras.layers.Flatten(),\n",
    "            tf.keras.layers.Dense(120, activation='sigmoid'),\n",
    "            tf.keras.layers.Dense(84, activation='sigmoid'),\n",
    "            tf.keras.layers.Dense(10, activation=\"softmax\")])\n",
    "\n",
    "\n",
    "lenet.compile(loss=\"sparse_categorical_crossentropy\",\n",
    "              optimizer=\"adam\",\n",
    "              metrics=[\"accuracy\"])\n",
    "\n",
    "lenet.summary()"
   ]
  },
  {
   "cell_type": "code",
   "execution_count": 10,
   "metadata": {},
   "outputs": [
    {
     "name": "stdout",
     "output_type": "stream",
     "text": [
      "Epoch 1/60\n",
      "1719/1719 [==============================] - 4s 2ms/step - loss: 0.8281 - accuracy: 0.7325 - val_loss: 0.2395 - val_accuracy: 0.9302\n",
      "Epoch 2/60\n",
      "1719/1719 [==============================] - 4s 2ms/step - loss: 0.2079 - accuracy: 0.9364 - val_loss: 0.1452 - val_accuracy: 0.9586\n",
      "Epoch 3/60\n",
      "1719/1719 [==============================] - 4s 2ms/step - loss: 0.1378 - accuracy: 0.9571 - val_loss: 0.0975 - val_accuracy: 0.9708\n",
      "Epoch 4/60\n",
      "1719/1719 [==============================] - 4s 2ms/step - loss: 0.1022 - accuracy: 0.9687 - val_loss: 0.0910 - val_accuracy: 0.9746\n",
      "Epoch 5/60\n",
      "1719/1719 [==============================] - 4s 2ms/step - loss: 0.0823 - accuracy: 0.9739 - val_loss: 0.0645 - val_accuracy: 0.9802\n",
      "Epoch 6/60\n",
      "1719/1719 [==============================] - 4s 2ms/step - loss: 0.0683 - accuracy: 0.9786 - val_loss: 0.0636 - val_accuracy: 0.9816\n",
      "Epoch 7/60\n",
      "1719/1719 [==============================] - 4s 2ms/step - loss: 0.0585 - accuracy: 0.9820 - val_loss: 0.0612 - val_accuracy: 0.9822\n",
      "Epoch 8/60\n",
      "1719/1719 [==============================] - 4s 2ms/step - loss: 0.0510 - accuracy: 0.9841 - val_loss: 0.0598 - val_accuracy: 0.9820\n",
      "Epoch 9/60\n",
      "1719/1719 [==============================] - 4s 2ms/step - loss: 0.0469 - accuracy: 0.9853 - val_loss: 0.0537 - val_accuracy: 0.9848\n",
      "Epoch 10/60\n",
      "1719/1719 [==============================] - 4s 2ms/step - loss: 0.0414 - accuracy: 0.9875 - val_loss: 0.0469 - val_accuracy: 0.9864\n",
      "Epoch 11/60\n",
      "1719/1719 [==============================] - 4s 2ms/step - loss: 0.0366 - accuracy: 0.9887 - val_loss: 0.0431 - val_accuracy: 0.9868\n",
      "Epoch 12/60\n",
      "1719/1719 [==============================] - 4s 2ms/step - loss: 0.0326 - accuracy: 0.9899 - val_loss: 0.0460 - val_accuracy: 0.9856\n",
      "Epoch 13/60\n",
      "1719/1719 [==============================] - 4s 2ms/step - loss: 0.0302 - accuracy: 0.9908 - val_loss: 0.0455 - val_accuracy: 0.9854\n",
      "Epoch 14/60\n",
      "1719/1719 [==============================] - 4s 2ms/step - loss: 0.0267 - accuracy: 0.9917 - val_loss: 0.0424 - val_accuracy: 0.9884\n",
      "Epoch 15/60\n",
      "1719/1719 [==============================] - 4s 2ms/step - loss: 0.0252 - accuracy: 0.9919 - val_loss: 0.0421 - val_accuracy: 0.9866\n",
      "Epoch 16/60\n",
      "1719/1719 [==============================] - 4s 2ms/step - loss: 0.0226 - accuracy: 0.9931 - val_loss: 0.0575 - val_accuracy: 0.9828\n",
      "Epoch 17/60\n",
      "1719/1719 [==============================] - 4s 2ms/step - loss: 0.0211 - accuracy: 0.9935 - val_loss: 0.0430 - val_accuracy: 0.9874\n",
      "Epoch 18/60\n",
      "1719/1719 [==============================] - 4s 2ms/step - loss: 0.0175 - accuracy: 0.9947 - val_loss: 0.0495 - val_accuracy: 0.9862\n",
      "Epoch 19/60\n",
      "1719/1719 [==============================] - 4s 2ms/step - loss: 0.0162 - accuracy: 0.9949 - val_loss: 0.0504 - val_accuracy: 0.9858\n",
      "Epoch 20/60\n",
      "1719/1719 [==============================] - 4s 2ms/step - loss: 0.0164 - accuracy: 0.9946 - val_loss: 0.0460 - val_accuracy: 0.9872\n",
      "Epoch 21/60\n",
      "1719/1719 [==============================] - 4s 2ms/step - loss: 0.0144 - accuracy: 0.9958 - val_loss: 0.0399 - val_accuracy: 0.9894\n",
      "Epoch 22/60\n",
      "1719/1719 [==============================] - 4s 2ms/step - loss: 0.0131 - accuracy: 0.9960 - val_loss: 0.0399 - val_accuracy: 0.9884\n",
      "Epoch 23/60\n",
      "1719/1719 [==============================] - 4s 2ms/step - loss: 0.0119 - accuracy: 0.9966 - val_loss: 0.0473 - val_accuracy: 0.9878\n",
      "Epoch 24/60\n",
      "1719/1719 [==============================] - 4s 3ms/step - loss: 0.0111 - accuracy: 0.9966 - val_loss: 0.0498 - val_accuracy: 0.9880\n",
      "Epoch 25/60\n",
      "1719/1719 [==============================] - 4s 2ms/step - loss: 0.0101 - accuracy: 0.9969 - val_loss: 0.0421 - val_accuracy: 0.9882\n",
      "Epoch 26/60\n",
      "1719/1719 [==============================] - 4s 2ms/step - loss: 0.0090 - accuracy: 0.9972 - val_loss: 0.0392 - val_accuracy: 0.9896\n",
      "Epoch 27/60\n",
      "1719/1719 [==============================] - 4s 2ms/step - loss: 0.0085 - accuracy: 0.9977 - val_loss: 0.0407 - val_accuracy: 0.9902\n",
      "Epoch 28/60\n",
      "1719/1719 [==============================] - 4s 3ms/step - loss: 0.0080 - accuracy: 0.9974 - val_loss: 0.0466 - val_accuracy: 0.9880\n",
      "Epoch 29/60\n",
      "1719/1719 [==============================] - 4s 2ms/step - loss: 0.0077 - accuracy: 0.9975 - val_loss: 0.0398 - val_accuracy: 0.9900\n",
      "Epoch 30/60\n",
      "1719/1719 [==============================] - 4s 2ms/step - loss: 0.0077 - accuracy: 0.9975 - val_loss: 0.0392 - val_accuracy: 0.9906\n",
      "Epoch 31/60\n",
      "1719/1719 [==============================] - 4s 2ms/step - loss: 0.0062 - accuracy: 0.9982 - val_loss: 0.0471 - val_accuracy: 0.9878\n",
      "Epoch 32/60\n",
      "1719/1719 [==============================] - 4s 2ms/step - loss: 0.0057 - accuracy: 0.9984 - val_loss: 0.0375 - val_accuracy: 0.9914\n",
      "Epoch 33/60\n",
      "1719/1719 [==============================] - 4s 2ms/step - loss: 0.0066 - accuracy: 0.9979 - val_loss: 0.0422 - val_accuracy: 0.9892\n",
      "Epoch 34/60\n",
      "1719/1719 [==============================] - 4s 2ms/step - loss: 0.0045 - accuracy: 0.9989 - val_loss: 0.0424 - val_accuracy: 0.9898\n",
      "Epoch 35/60\n",
      "1719/1719 [==============================] - 4s 2ms/step - loss: 0.0062 - accuracy: 0.9982 - val_loss: 0.0403 - val_accuracy: 0.9920\n",
      "Epoch 36/60\n",
      "1719/1719 [==============================] - 4s 2ms/step - loss: 0.0045 - accuracy: 0.9986 - val_loss: 0.0446 - val_accuracy: 0.9888\n",
      "Epoch 37/60\n",
      "1719/1719 [==============================] - 4s 2ms/step - loss: 0.0046 - accuracy: 0.9986 - val_loss: 0.0490 - val_accuracy: 0.9894\n",
      "Epoch 38/60\n",
      "1719/1719 [==============================] - 4s 2ms/step - loss: 0.0039 - accuracy: 0.9987 - val_loss: 0.0413 - val_accuracy: 0.9910\n",
      "Epoch 39/60\n",
      "1719/1719 [==============================] - 4s 2ms/step - loss: 0.0037 - accuracy: 0.9989 - val_loss: 0.0474 - val_accuracy: 0.9904\n",
      "Epoch 40/60\n",
      "1719/1719 [==============================] - 4s 2ms/step - loss: 0.0043 - accuracy: 0.9986 - val_loss: 0.0488 - val_accuracy: 0.9896\n",
      "Epoch 41/60\n",
      "1719/1719 [==============================] - 4s 2ms/step - loss: 0.0042 - accuracy: 0.9987 - val_loss: 0.0442 - val_accuracy: 0.9908\n",
      "Epoch 42/60\n",
      "1719/1719 [==============================] - 4s 2ms/step - loss: 0.0037 - accuracy: 0.9987 - val_loss: 0.0459 - val_accuracy: 0.9914\n",
      "Epoch 43/60\n",
      "1719/1719 [==============================] - 4s 2ms/step - loss: 0.0025 - accuracy: 0.9993 - val_loss: 0.0454 - val_accuracy: 0.9904\n",
      "Epoch 44/60\n",
      "1719/1719 [==============================] - 4s 3ms/step - loss: 0.0051 - accuracy: 0.9983 - val_loss: 0.0482 - val_accuracy: 0.9902\n",
      "Epoch 45/60\n",
      "1719/1719 [==============================] - 4s 3ms/step - loss: 0.0028 - accuracy: 0.9991 - val_loss: 0.0432 - val_accuracy: 0.9904\n",
      "Epoch 46/60\n",
      "1719/1719 [==============================] - 4s 2ms/step - loss: 0.0029 - accuracy: 0.9992 - val_loss: 0.0513 - val_accuracy: 0.9892\n",
      "Epoch 47/60\n",
      "1719/1719 [==============================] - 4s 3ms/step - loss: 0.0029 - accuracy: 0.9990 - val_loss: 0.0563 - val_accuracy: 0.9890\n"
     ]
    }
   ],
   "source": [
    "history2 = lenet.fit(X_train2, y_train, epochs=60,\n",
    "                    validation_data=(X_valid2, y_valid),\n",
    "                   callbacks=[keras.callbacks.EarlyStopping(patience=15)])"
   ]
  }
 ],
 "metadata": {
  "kernelspec": {
   "display_name": "Python 3 (ipykernel)",
   "language": "python",
   "name": "python3"
  },
  "language_info": {
   "codemirror_mode": {
    "name": "ipython",
    "version": 3
   },
   "file_extension": ".py",
   "mimetype": "text/x-python",
   "name": "python",
   "nbconvert_exporter": "python",
   "pygments_lexer": "ipython3",
   "version": "3.10.12"
  },
  "nav_menu": {
   "height": "264px",
   "width": "369px"
  },
  "toc": {
   "navigate_menu": true,
   "number_sections": false,
   "sideBar": true,
   "threshold": 6,
   "toc_cell": false,
   "toc_section_display": "block",
   "toc_window_display": false
  }
 },
 "nbformat": 4,
 "nbformat_minor": 4
}
